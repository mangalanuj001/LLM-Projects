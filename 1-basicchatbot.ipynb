{
 "cells": [
  {
   "cell_type": "markdown",
   "id": "27b5a48c",
   "metadata": {},
   "source": [
    "## Build a Basic Chatbot with Langgraph (GRAPH API)"
   ]
  },
  {
   "cell_type": "code",
   "execution_count": 1,
   "id": "063a94b9",
   "metadata": {},
   "outputs": [
    {
     "data": {
      "text/plain": [
       "8"
      ]
     },
     "execution_count": 1,
     "metadata": {},
     "output_type": "execute_result"
    }
   ],
   "source": [
    "1+7"
   ]
  },
  {
   "cell_type": "code",
   "execution_count": 2,
   "id": "67c75279",
   "metadata": {},
   "outputs": [],
   "source": [
    "from typing import Annotated\n",
    "from typing_extensions import TypedDict #Type Dictionary\n",
    "\n",
    "from langgraph.graph import StateGraph,START,END\n",
    "from langgraph.graph.message import add_messages"
   ]
  },
  {
   "cell_type": "code",
   "execution_count": 4,
   "id": "e4ee32fe",
   "metadata": {},
   "outputs": [],
   "source": [
    "class State(TypedDict):\n",
    "    ## 'State' class returns a dictionary\n",
    "    ## Messages have the type \"list\". The \"add_messages\" fn in the annotation defines how\n",
    "    ## this state key should be updated\n",
    "    ## in this case, it appends messages to the list, rather than overwriting them\n",
    "    messages:Annotated[list,add_messages]\n",
    "    \n"
   ]
  },
  {
   "cell_type": "code",
   "execution_count": 5,
   "id": "051c3aa7",
   "metadata": {},
   "outputs": [
    {
     "data": {
      "text/plain": [
       "True"
      ]
     },
     "execution_count": 5,
     "metadata": {},
     "output_type": "execute_result"
    }
   ],
   "source": [
    "import os\n",
    "from dotenv import load_dotenv\n",
    "load_dotenv()"
   ]
  },
  {
   "cell_type": "code",
   "execution_count": 6,
   "id": "d230b57d",
   "metadata": {},
   "outputs": [],
   "source": [
    "from langchain_groq import ChatGroq\n",
    "from langchain.chat_models import init_chat_model\n",
    "\n",
    "llm=ChatGroq(model=\"llama3-8b-8192\")"
   ]
  },
  {
   "cell_type": "code",
   "execution_count": 7,
   "id": "e93b9e22",
   "metadata": {},
   "outputs": [
    {
     "data": {
      "text/plain": [
       "ChatGroq(client=<groq.resources.chat.completions.Completions object at 0x00000186900FD010>, async_client=<groq.resources.chat.completions.AsyncCompletions object at 0x00000186901DAB40>, model_name='llama3-8b-8192', model_kwargs={}, groq_api_key=SecretStr('**********'))"
      ]
     },
     "execution_count": 7,
     "metadata": {},
     "output_type": "execute_result"
    }
   ],
   "source": [
    "llm"
   ]
  },
  {
   "cell_type": "code",
   "execution_count": 8,
   "id": "e96a9166",
   "metadata": {},
   "outputs": [
    {
     "data": {
      "text/plain": [
       "ChatGroq(client=<groq.resources.chat.completions.Completions object at 0x0000018690438AD0>, async_client=<groq.resources.chat.completions.AsyncCompletions object at 0x00000186901D8A70>, model_name='llama3-8b-8192', model_kwargs={}, groq_api_key=SecretStr('**********'))"
      ]
     },
     "execution_count": 8,
     "metadata": {},
     "output_type": "execute_result"
    }
   ],
   "source": [
    "## alternate way of calling llm\n",
    "llm= init_chat_model(\"groq:llama3-8b-8192\") ## using llm model from groq\n",
    "llm"
   ]
  },
  {
   "cell_type": "code",
   "execution_count": 9,
   "id": "077d9eaf",
   "metadata": {},
   "outputs": [],
   "source": [
    "## similarly if you want to use LLM model from OpenAI\n",
    "#from langchain_openai import OpenAI\n",
    "#from langchain.chat_models import init_chat_model\n",
    "\n",
    "#llm= init_chat_model(\"OpenAI:llama3-8b-8192\")\n",
    "#llm"
   ]
  },
  {
   "cell_type": "code",
   "execution_count": 10,
   "id": "ab7b02ef",
   "metadata": {},
   "outputs": [],
   "source": [
    "## In my Flow diagram, \"chatbot\" is a node -- so Node Functionality or Node definition or Node Implementation\n",
    "def chatbot(state:State):\n",
    "    return{\"messages\":[llm.invoke(state[\"messages\"])]}  \n",
    "#state[\"messages\"] is our input messages that we give to chatbot(node), it keeps \"appending\""
   ]
  },
  {
   "cell_type": "code",
   "execution_count": 11,
   "id": "121783ac",
   "metadata": {},
   "outputs": [],
   "source": [
    "graph_builder = StateGraph(State)\n",
    "graph_builder\n",
    "\n",
    "#Adding Nodes\n",
    "graph_builder.add_node(\"llmchatbot\",chatbot)\n",
    "\n",
    "#Adding Edges\n",
    "graph_builder.add_edge(START,\"llmchatbot\")\n",
    "graph_builder.add_edge(\"llmchatbot\",END)\n",
    "\n",
    "#compile the graph\n",
    "graph=graph_builder.compile()\n"
   ]
  },
  {
   "cell_type": "code",
   "execution_count": 11,
   "id": "ebf097a9",
   "metadata": {},
   "outputs": [
    {
     "data": {
      "image/png": "[encoded data removed]",
      "text/plain": [
       "<IPython.core.display.Image object>"
      ]
     },
     "metadata": {},
     "output_type": "display_data"
    }
   ],
   "source": [
    "## Visualize the graph\n",
    "\n",
    "from IPython.display import Image,display\n",
    "\n",
    "try:\n",
    "    display(Image(graph.get_graph().draw_mermaid_png()))\n",
    "except Exception:\n",
    "    pass"
   ]
  },
  {
   "cell_type": "code",
   "execution_count": 13,
   "id": "70d055d0",
   "metadata": {},
   "outputs": [],
   "source": [
    "response =graph.invoke({\"messages\":\"hello\"})"
   ]
  },
  {
   "cell_type": "code",
   "execution_count": 14,
   "id": "dd553371",
   "metadata": {},
   "outputs": [
    {
     "data": {
      "text/plain": [
       "{'messages': [HumanMessage(content='hello', additional_kwargs={}, response_metadata={}, id='e5b60637-df8d-4488-bb33-ccbf77679e82'),\n",
       "  AIMessage(content=\"Hello! It's nice to meet you. Is there something I can help you with, or would you like to chat?\", additional_kwargs={}, response_metadata={'token_usage': {'completion_tokens': 26, 'prompt_tokens': 11, 'total_tokens': 37, 'completion_time': 0.024520869, 'prompt_time': 0.005581646, 'queue_time': 0.642294581, 'total_time': 0.030102515}, 'model_name': 'llama3-8b-8192', 'system_fingerprint': 'fp_24ec19897b', 'finish_reason': 'stop', 'logprobs': None}, id='run--c4f101f6-d476-41bb-836d-cf5aaad56ae0-0', usage_metadata={'input_tokens': 11, 'output_tokens': 26, 'total_tokens': 37})]}"
      ]
     },
     "execution_count": 14,
     "metadata": {},
     "output_type": "execute_result"
    }
   ],
   "source": [
    "response"
   ]
  },
  {
   "cell_type": "code",
   "execution_count": 15,
   "id": "26c4d0bb",
   "metadata": {},
   "outputs": [
    {
     "data": {
      "text/plain": [
       "[HumanMessage(content='hello', additional_kwargs={}, response_metadata={}, id='e5b60637-df8d-4488-bb33-ccbf77679e82'),\n",
       " AIMessage(content=\"Hello! It's nice to meet you. Is there something I can help you with, or would you like to chat?\", additional_kwargs={}, response_metadata={'token_usage': {'completion_tokens': 26, 'prompt_tokens': 11, 'total_tokens': 37, 'completion_time': 0.024520869, 'prompt_time': 0.005581646, 'queue_time': 0.642294581, 'total_time': 0.030102515}, 'model_name': 'llama3-8b-8192', 'system_fingerprint': 'fp_24ec19897b', 'finish_reason': 'stop', 'logprobs': None}, id='run--c4f101f6-d476-41bb-836d-cf5aaad56ae0-0', usage_metadata={'input_tokens': 11, 'output_tokens': 26, 'total_tokens': 37})]"
      ]
     },
     "execution_count": 15,
     "metadata": {},
     "output_type": "execute_result"
    }
   ],
   "source": [
    "response[\"messages\"]"
   ]
  },
  {
   "cell_type": "code",
   "execution_count": 16,
   "id": "7c0faaa4",
   "metadata": {},
   "outputs": [
    {
     "data": {
      "text/plain": [
       "AIMessage(content=\"Hello! It's nice to meet you. Is there something I can help you with, or would you like to chat?\", additional_kwargs={}, response_metadata={'token_usage': {'completion_tokens': 26, 'prompt_tokens': 11, 'total_tokens': 37, 'completion_time': 0.024520869, 'prompt_time': 0.005581646, 'queue_time': 0.642294581, 'total_time': 0.030102515}, 'model_name': 'llama3-8b-8192', 'system_fingerprint': 'fp_24ec19897b', 'finish_reason': 'stop', 'logprobs': None}, id='run--c4f101f6-d476-41bb-836d-cf5aaad56ae0-0', usage_metadata={'input_tokens': 11, 'output_tokens': 26, 'total_tokens': 37})"
      ]
     },
     "execution_count": 16,
     "metadata": {},
     "output_type": "execute_result"
    }
   ],
   "source": [
    "response[\"messages\"][-1]"
   ]
  },
  {
   "cell_type": "code",
   "execution_count": 17,
   "id": "fa98bf4d",
   "metadata": {},
   "outputs": [
    {
     "data": {
      "text/plain": [
       "\"Hello! It's nice to meet you. Is there something I can help you with, or would you like to chat?\""
      ]
     },
     "execution_count": 17,
     "metadata": {},
     "output_type": "execute_result"
    }
   ],
   "source": [
    "response[\"messages\"][-1].content"
   ]
  },
  {
   "cell_type": "code",
   "execution_count": 18,
   "id": "57f1fdd2",
   "metadata": {},
   "outputs": [],
   "source": [
    "response =graph.invoke({\"messages\":\"Are you happy?\"})"
   ]
  },
  {
   "cell_type": "code",
   "execution_count": 19,
   "id": "38e10b34",
   "metadata": {},
   "outputs": [
    {
     "data": {
      "text/plain": [
       "\"I am a machine, so I don't have emotions like happiness, sadness, or any other feelings that humans experience. I am designed to process and generate text, and I don't have the capacity to feel emotions. I am simply a computer program designed to assist and provide information to users.\""
      ]
     },
     "execution_count": 19,
     "metadata": {},
     "output_type": "execute_result"
    }
   ],
   "source": [
    "response[\"messages\"][-1].content"
   ]
  },
  {
   "cell_type": "code",
   "execution_count": 20,
   "id": "d254455a",
   "metadata": {},
   "outputs": [
    {
     "name": "stdout",
     "output_type": "stream",
     "text": [
      "I am an artificial intelligence, so I don't have a physical location or a specific place of origin. I was created by a team of software developers using a range of technologies such as natural language processing and machine learning. I exist solely in the digital realm and can be accessed from anywhere with an internet connection.\n"
     ]
    }
   ],
   "source": [
    "for event in graph.stream({\"messages\":\"Where are you from?\"}):   ## STreaming\n",
    "    for value in event.values():\n",
    "        print(value[\"messages\"][-1].content)"
   ]
  },
  {
   "cell_type": "code",
   "execution_count": 22,
   "id": "d1e5f3e6",
   "metadata": {},
   "outputs": [
    {
     "name": "stdout",
     "output_type": "stream",
     "text": [
      "A classic!\n",
      "\n",
      "In Python, you can write a simple function to calculate the factorial of a given integer using a recursive approach or an iterative approach. Here are both examples:\n",
      "\n",
      "**Recursive Approach:**\n",
      "```python\n",
      "def factorial(n):\n",
      "    if n == 0:\n",
      "        return 1\n",
      "    else:\n",
      "        return n * factorial(n-1)\n",
      "```\n",
      "This function works by recursively calling itself with decreasing values of `n` until it reaches 0, at which point it returns 1. The final result is the product of all the numbers from `n` down to 1.\n",
      "\n",
      "**Iterative Approach:**\n",
      "```python\n",
      "def factorial(n):\n",
      "    result = 1\n",
      "    for i in range(1, n+1):\n",
      "        result *= i\n",
      "    return result\n",
      "```\n",
      "This function uses a loop to iterate from 1 to `n`, multiplying the result by each number in the range.\n",
      "\n",
      "**Example Usage:**\n",
      "```python\n",
      "print(factorial(5))  # Output: 120\n",
      "print(factorial(3))  # Output: 6\n",
      "```\n",
      "You can also use the `math.factorial` function from the Python `math` module, which is a more efficient and accurate implementation:\n",
      "```python\n",
      "import math\n",
      "print(math.factorial(5))  # Output: 120\n",
      "```\n",
      "Note that the `math.factorial` function only works for non-negative integers, and it raises a `ValueError` for negative integers or non-integer values.\n"
     ]
    }
   ],
   "source": [
    "for event in graph.stream({\"messages\":\"How to write code in Python for finding Factorial?\"}):   ## STreaming\n",
    "    for value in event.values():\n",
    "        print(value[\"messages\"][-1].content)"
   ]
  },
  {
   "cell_type": "markdown",
   "id": "1885af00",
   "metadata": {},
   "source": [
    "# CHATBOT with TOOLs"
   ]
  },
  {
   "cell_type": "code",
   "execution_count": 23,
   "id": "ae871269",
   "metadata": {},
   "outputs": [
    {
     "data": {
      "text/plain": [
       "{'query': 'What is the best open source LLM model to use in a CPU windows lightweight machine?',\n",
       " 'follow_up_questions': None,\n",
       " 'answer': None,\n",
       " 'images': [],\n",
       " 'results': [{'url': 'https://levelup.gitconnected.com/i-tried-20-open-source-llms-these-5-perform-remarkably-well-on-cpus-769a57bb98bd',\n",
       "   'title': 'Top 5 LLMs for CPU only laptops/computers. - Level Up Coding',\n",
       "   'content': \"Llama models are arguably the most popular open-source option. I personally prefer the Llama 3.2 3B model. It's compact yet powerful. If you\",\n",
       "   'score': 0.79901963,\n",
       "   'raw_content': None},\n",
       "  {'url': 'https://www.reddit.com/r/huggingface/comments/1idas0t/best_open_source_llm_to_run_on_laptop/',\n",
       "   'title': 'Best open source LLM to run on Laptop? : r/huggingface - Reddit',\n",
       "   'content': 'I was able to run Ollama run deepseek-r1:7b That worked ok, bug sluggish slow on my i5 11th gen windows laptop (intel 1135g7) w/ 16gb ram and no',\n",
       "   'score': 0.48703963,\n",
       "   'raw_content': None}],\n",
       " 'response_time': 1.3}"
      ]
     },
     "execution_count": 23,
     "metadata": {},
     "output_type": "execute_result"
    }
   ],
   "source": [
    "from langchain_tavily import TavilySearch\n",
    "\n",
    "tool= TavilySearch(max_results=2)\n",
    "tool.invoke(\"What is the best open source LLM model to use in a CPU windows lightweight machine?\")"
   ]
  },
  {
   "cell_type": "code",
   "execution_count": 24,
   "id": "de9126ae",
   "metadata": {},
   "outputs": [],
   "source": [
    "## Custom Function\n",
    "def multiply(a:int,b:int)->int:  ##all the below in what we call \"DOC STRING\"\n",
    "    \"\"\"Multiply a and b\n",
    "\n",
    "    Args:\n",
    "        a (int): first int\n",
    "        b (int): second int\n",
    "\n",
    "    Returns:\n",
    "        int: output int\n",
    "    \"\"\"\n",
    "    return a*b\n"
   ]
  },
  {
   "cell_type": "code",
   "execution_count": 25,
   "id": "bc0c1920",
   "metadata": {},
   "outputs": [
    {
     "data": {
      "text/plain": [
       "[TavilySearch(max_results=2, api_wrapper=TavilySearchAPIWrapper(tavily_api_key=SecretStr('**********'))),\n",
       " <function __main__.multiply(a: int, b: int) -> int>]"
      ]
     },
     "execution_count": 25,
     "metadata": {},
     "output_type": "execute_result"
    }
   ],
   "source": [
    "tools= [tool,multiply]  #tool is a tavily search & Multiply is a custom tool\n",
    "tools"
   ]
  },
  {
   "cell_type": "code",
   "execution_count": 26,
   "id": "6319bbcc",
   "metadata": {},
   "outputs": [
    {
     "data": {
      "text/plain": [
       "ChatGroq(client=<groq.resources.chat.completions.Completions object at 0x0000018690438AD0>, async_client=<groq.resources.chat.completions.AsyncCompletions object at 0x00000186901D8A70>, model_name='llama3-8b-8192', model_kwargs={}, groq_api_key=SecretStr('**********'))"
      ]
     },
     "execution_count": 26,
     "metadata": {},
     "output_type": "execute_result"
    }
   ],
   "source": [
    "llm"
   ]
  },
  {
   "cell_type": "code",
   "execution_count": 27,
   "id": "370d3702",
   "metadata": {},
   "outputs": [
    {
     "data": {
      "text/plain": [
       "RunnableBinding(bound=ChatGroq(client=<groq.resources.chat.completions.Completions object at 0x0000018690438AD0>, async_client=<groq.resources.chat.completions.AsyncCompletions object at 0x00000186901D8A70>, model_name='llama3-8b-8192', model_kwargs={}, groq_api_key=SecretStr('**********')), kwargs={'tools': [{'type': 'function', 'function': {'name': 'tavily_search', 'description': 'A search engine optimized for comprehensive, accurate, and trusted results. Useful for when you need to answer questions about current events. It not only retrieves URLs and snippets, but offers advanced search depths, domain management, time range filters, and image search, this tool delivers real-time, accurate, and citation-backed results.Input should be a search query.', 'parameters': {'properties': {'query': {'description': 'Search query to look up', 'type': 'string'}, 'include_domains': {'anyOf': [{'items': {'type': 'string'}, 'type': 'array'}, {'type': 'null'}], 'default': [], 'description': 'A list of domains to restrict search results to.\\n\\n        Use this parameter when:\\n        1. The user explicitly requests information from specific websites (e.g., \"Find climate data from nasa.gov\")\\n        2. The user mentions an organization or company without specifying the domain (e.g., \"Find information about iPhones from Apple\")\\n\\n        In both cases, you should determine the appropriate domains (e.g., [\"nasa.gov\"] or [\"apple.com\"]) and set this parameter.\\n\\n        Results will ONLY come from the specified domains - no other sources will be included.\\n        Default is None (no domain restriction).\\n        '}, 'exclude_domains': {'anyOf': [{'items': {'type': 'string'}, 'type': 'array'}, {'type': 'null'}], 'default': [], 'description': 'A list of domains to exclude from search results.\\n\\n        Use this parameter when:\\n        1. The user explicitly requests to avoid certain websites (e.g., \"Find information about climate change but not from twitter.com\")\\n        2. The user mentions not wanting results from specific organizations without naming the domain (e.g., \"Find phone reviews but nothing from Apple\")\\n\\n        In both cases, you should determine the appropriate domains to exclude (e.g., [\"twitter.com\"] or [\"apple.com\"]) and set this parameter.\\n\\n        Results will filter out all content from the specified domains.\\n        Default is None (no domain exclusion).\\n        '}, 'search_depth': {'anyOf': [{'enum': ['basic', 'advanced'], 'type': 'string'}, {'type': 'null'}], 'default': 'basic', 'description': 'Controls search thoroughness and result comprehensiveness.\\n    \\n        Use \"basic\" for simple queries requiring quick, straightforward answers.\\n        \\n        Use \"advanced\" (default) for complex queries, specialized topics, \\n        rare information, or when in-depth analysis is needed.\\n        '}, 'include_images': {'anyOf': [{'type': 'boolean'}, {'type': 'null'}], 'default': False, 'description': 'Determines if the search returns relevant images along with text results.\\n   \\n        Set to True when the user explicitly requests visuals or when images would \\n        significantly enhance understanding (e.g., \"Show me what black holes look like,\" \\n        \"Find pictures of Renaissance art\").\\n        \\n        Leave as False (default) for most informational queries where text is sufficient.\\n        '}, 'time_range': {'anyOf': [{'enum': ['day', 'week', 'month', 'year'], 'type': 'string'}, {'type': 'null'}], 'default': None, 'description': 'Limits results to content published within a specific timeframe.\\n        \\n        ONLY set this when the user explicitly mentions a time period \\n        (e.g., \"latest AI news,\" \"articles from last week\").\\n        \\n        For less popular or niche topics, use broader time ranges \\n        (\"month\" or \"year\") to ensure sufficient relevant results.\\n   \\n        Options: \"day\" (24h), \"week\" (7d), \"month\" (30d), \"year\" (365d).\\n        \\n        Default is None.\\n        '}, 'topic': {'anyOf': [{'enum': ['general', 'news', 'finance'], 'type': 'string'}, {'type': 'null'}], 'default': 'general', 'description': 'Specifies search category for optimized results.\\n   \\n        Use \"general\" (default) for most queries, INCLUDING those with terms like \\n        \"latest,\" \"newest,\" or \"recent\" when referring to general information.\\n\\n        Use \"finance\" for markets, investments, economic data, or financial news.\\n\\n        Use \"news\" ONLY for politics, sports, or major current events covered by \\n        mainstream media - NOT simply because a query asks for \"new\" information.\\n        '}}, 'required': ['query'], 'type': 'object'}}}, {'type': 'function', 'function': {'name': 'multiply', 'description': 'Multiply a and b', 'parameters': {'properties': {'a': {'description': 'first int', 'type': 'integer'}, 'b': {'description': 'second int', 'type': 'integer'}}, 'required': ['a', 'b'], 'type': 'object'}}}]}, config={}, config_factories=[])"
      ]
     },
     "execution_count": 27,
     "metadata": {},
     "output_type": "execute_result"
    }
   ],
   "source": [
    "llm_with_tool= llm.bind_tools(tools)\n",
    "llm_with_tool"
   ]
  },
  {
   "cell_type": "code",
   "execution_count": 28,
   "id": "2af125a5",
   "metadata": {},
   "outputs": [],
   "source": [
    "class State(TypedDict):\n",
    "    ## 'State' class returns a dictionary\n",
    "    ## Messages have the type \"list\". The \"add_messages\" fn in the annotation defines how\n",
    "    ## this state key should be updated\n",
    "    ## in this case, it sppends messages to the list, rather than overwriting them\n",
    "    messages:Annotated[list,add_messages]"
   ]
  },
  {
   "cell_type": "code",
   "execution_count": 29,
   "id": "55463b8f",
   "metadata": {},
   "outputs": [],
   "source": [
    "## StateGraph\n",
    "from langgraph.graph import StateGraph,START,END\n",
    "#from langgraph.graph.message import add_messages\n",
    "\n",
    "from langgraph.prebuilt import ToolNode\n",
    "from langgraph.prebuilt import tools_condition\n",
    "\n",
    "## Node Definition\n",
    "def llm_calling_tool(state:State):\n",
    "    return{\"messages\":[llm_with_tool.invoke(state[\"messages\"])]}\n",
    "\n",
    "## Graph\n",
    "builder= StateGraph(State)\n",
    "\n",
    "#Add Nodes\n",
    "builder.add_node(\"llm_calling_tool\",llm_calling_tool)\n",
    "builder.add_node(\"tools\",ToolNode(tools))\n",
    "\n",
    "#Add Edges\n",
    "builder.add_edge(START,\"llm_calling_tool\")\n",
    "\n",
    "builder.add_conditional_edges(\n",
    "    \"llm_calling_tool\",\n",
    "    #If the latest message (result) from assistant is a tool call-> tools_condition routes to tools\n",
    "    #If the latest message (result) from assistant is NOT a tool call-> tools_condition routes to END\n",
    "    tools_condition\n",
    ")\n",
    "\n",
    "builder.add_edge(\"tools\",END)\n",
    "\n",
    "##compile the graph\n",
    "graph=builder.compile()\n",
    "\n",
    "\n",
    " "
   ]
  },
  {
   "cell_type": "code",
   "execution_count": 30,
   "id": "7c7d7962",
   "metadata": {},
   "outputs": [
    {
     "data": {
      "image/png": "[encoded data removed]",
      "text/plain": [
       "<IPython.core.display.Image object>"
      ]
     },
     "metadata": {},
     "output_type": "display_data"
    }
   ],
   "source": [
    "## Visualize the graph\n",
    "\n",
    "from IPython.display import Image,display\n",
    "\n",
    "try:\n",
    "    display(Image(graph.get_graph().draw_mermaid_png()))\n",
    "except Exception:\n",
    "    pass"
   ]
  },
  {
   "cell_type": "code",
   "execution_count": 31,
   "id": "118c4002",
   "metadata": {},
   "outputs": [
    {
     "data": {
      "text/plain": [
       "'{\"query\": \"Virat Kohli\\'s latest achievement in T20 tournaments\", \"follow_up_questions\": null, \"answer\": null, \"images\": [], \"results\": [{\"url\": \"https://sports.ndtv.com/england-vs-india-2025/jasprit-bumrah-breaks-kapil-devs-historic-record-equals-wasim-akram-and-proves-why-hes-best-8861563\", \"title\": \"India vs England: Jasprit Bumrah Breaks Kapil Dev\\'s Historic Record, Equals Wasim Akram And Proves W.. - NDTV Sports\", \"score\": 0.25397244, \"published_date\": \"Fri, 11 Jul 2025 14:11:16 GMT\", \"content\": \"rank player rating \\\\n    1 Image 50: Babar Azam Babar AzamPakistan   809  \\\\n    2 Image 51: Rohit Sharma Rohit SharmaIndia   765  \\\\n    3 Image 52: Wanindu Hasaranga Shubman GillIndia   763  \\\\n    4 Image 53: Virat Kohli Virat KohliIndia   746  \\\\n    5 Image 54: Wanindu Hasaranga Harry TectorIreland   737  \\\\n   View All ODI Rankings Last updated on 26 November 2024 [...] Jasprit Bumrah Breaks Kapil Dev\\'s Historic Record, Equals Wasim Akram And Proves Why He\\'s Best | Cricket News\\\\n\\\\n===============\\\\n\\\\n   NDTV\\\\n   WORLD\\\\n   PROFIT\\\\n   हिंदी\\\\n   MOVIES\\\\n   CRICKET\\\\n   FOOD\\\\n   LIFESTYLE\\\\n   HEALTH\\\\n   TECH\\\\n   GAMES\\\\n   SHOPPING\\\\n   APPS\\\\n   RAJASTHAN\\\\n   MPCG\\\\n   MARATHI\\\\n\\\\nDon\\'t Miss\\\\n\\\\nKohli \\\\\"Hasn\\'t...\\\\\": Star\\'s Technical Flaw Singled Out As Retirement Reason\\\\n\\\\nCommentator\\'s Virat Kohli Reference For Alcaraz In Old Video Goes Viral [...] Paralympics 2024\\\\n   Jay Shah\\\\n   Virat Kohli\\\\n   Paralympics Medal Tally\\\\n   India\\'s Schedule Paralympics 2024\\\\n   Rohit Sharma\\\\n\\\\nAdvertisement\\\\n\\\\nTrending Links\\\\n\\\\n   Paralympics 2024\\\\n   Jay Shah\\\\n   Virat Kohli\\\\n   Paralympics Medal Tally\\\\n   India\\'s Schedule Paralympics 2024\\\\n   Rohit Sharma\\\\n\\\\nFollow us on:\\\\n\\\\nfacebooktwitter\\\\n\\\\nCricket\\\\n\\\\n   Live Scores\\\\n   Series\\\\n   Fixtures\\\\n   Results\\\\n   News\\\\n   Photos\\\\n   Videos\\\\n   Features\\\\n   Teams\\\\n   Players\\\\n   Venues\\\\n   ICC Ranking\\\\n\\\\nFootball\", \"raw_content\": null}, {\"url\": \"https://www.telecomasia.net/blog/2nd-t20i-litton-das-bowlers-help-bangladesh-level-series-with-thumping-83-run-victory/\", \"title\": \"2nd T20I: Litton Das, Bowlers Help Bangladesh Level Series with Thumping 83-Run Victory - Telecom Asia Sport\", \"score\": 0.16426189, \"published_date\": \"Sun, 13 Jul 2025 21:10:12 GMT\", \"content\": \"Image 65: New Week! New Challenge!: Accumulator Tips for July 14, 2025.\\\\n\\\\nNew Week! New Challenge!: Accumulator Tips for July 14, 2025.\\\\n\\\\n yesterday, 13 Jul 2025 17:04 \\\\n\\\\n   News\\\\n   Football\\\\n\\\\nBarcelona Star Lamine Yamal Turns 18\\\\n\\\\n yesterday, 13 Jul 2025 14:45 \\\\n\\\\n   News\\\\n   Football\\\\n\\\\nInter Miami Coach Mascherano Comments on Messi\\'s Latest MLS Record\\\\n\\\\n yesterday, 13 Jul 2025 14:44 \\\\n\\\\n   News\\\\n   MMA\\\\n\\\\nCormier Defends Referee\\'s Stoppage in Lewis vs. Teixeira Fight\\\\n\\\\n yesterday, 13 Jul 2025 14:41 [...] Chelsea Defeat PSG 3-0 to Win Club World Cup 2025\\\\n\\\\n 22 minutes ago \\\\n\\\\n   Articles\\\\n\\\\n2nd T20I: Litton Das, Bowlers Help Bangladesh Level Series with Thumping 83-Run Victory\\\\n\\\\n 24 minutes ago \\\\n\\\\n   Articles\\\\n\\\\n4th Day: Nerves Shred as India Slump to 58/4 Chasing 193 against England\\\\n\\\\n 47 minutes ago \\\\n\\\\n   News\\\\n   Football\\\\n\\\\nFormer Liverpool Striker Firmino to Join Qatari Club Al Sadd\\\\n\\\\n yesterday, 13 Jul 2025 22:19 \\\\n\\\\n   News\\\\n   Football\\\\n\\\\nFIFA Regulates Mandatory Breaks for Football Players [...] No Deposit\\\\n   Promotions\\\\n   Cashback\\\\n\\\\nNews\\\\n   Sports news\\\\n   Football\\\\n   Boxing\\\\n   Tennis\\\\n   Hockey\\\\n   Content\\\\n\\\\nBetting Statistics\\\\n   Football Betting Statistics\\\\n   Both Teams To Score\\\\n   Over 2.5 Goals (Total Over)\\\\n   Under 2.5 Goals (Total Under)\\\\n\\\\nBlog\\\\n   Sports Articles\\\\n   Athletes & Celebrities\\\\n\\\\nEvents\\\\n\\\\nBonus $100\\\\n\\\\nSign in\\\\n\\\\n1.   Home\\\\n2.   Blogs\\\\n\\\\nUsers\\' Choice\\\\n\\\\n14100 EURImage 26: 1xBet\\\\n\\\\n695250 USDImage 27: Betway\\\\n\\\\n020000 USDImage 28: Bc.Game\\\\n\\\\n0130 USDImage 29: 888Starz\", \"raw_content\": null}], \"response_time\": 1.9}'"
      ]
     },
     "execution_count": 31,
     "metadata": {},
     "output_type": "execute_result"
    }
   ],
   "source": [
    "response=graph.invoke({\"messages\":\"What is Virat Kohli's latest achievement in T20 tournaments\"})\n",
    "\n",
    "# response OR response[\"messages\"] OR response[\"messages\"][-1] OR response[\"messages\"][-1].content ##print the output in diff ways\n",
    "response[\"messages\"][-1].content"
   ]
  },
  {
   "cell_type": "code",
   "execution_count": 32,
   "id": "8346b8ae",
   "metadata": {},
   "outputs": [
    {
     "name": "stdout",
     "output_type": "stream",
     "text": [
      "================================\u001b[1m Human Message \u001b[0m=================================\n",
      "\n",
      "What is Virat Kohli's latest achievement in T20 tournaments\n",
      "==================================\u001b[1m Ai Message \u001b[0m==================================\n",
      "Tool Calls:\n",
      "  tavily_search (bwzntftks)\n",
      " Call ID: bwzntftks\n",
      "  Args:\n",
      "    exclude_domains: []\n",
      "    include_domains: []\n",
      "    include_images: False\n",
      "    query: Virat Kohli's latest achievement in T20 tournaments\n",
      "    search_depth: advanced\n",
      "    time_range: None\n",
      "    topic: news\n",
      "=================================\u001b[1m Tool Message \u001b[0m=================================\n",
      "Name: tavily_search\n",
      "\n",
      "{\"query\": \"Virat Kohli's latest achievement in T20 tournaments\", \"follow_up_questions\": null, \"answer\": null, \"images\": [], \"results\": [{\"url\": \"https://sports.ndtv.com/england-vs-india-2025/jasprit-bumrah-breaks-kapil-devs-historic-record-equals-wasim-akram-and-proves-why-hes-best-8861563\", \"title\": \"India vs England: Jasprit Bumrah Breaks Kapil Dev's Historic Record, Equals Wasim Akram And Proves W.. - NDTV Sports\", \"score\": 0.25397244, \"published_date\": \"Fri, 11 Jul 2025 14:11:16 GMT\", \"content\": \"rank player rating \\n    1 Image 50: Babar Azam Babar AzamPakistan   809  \\n    2 Image 51: Rohit Sharma Rohit SharmaIndia   765  \\n    3 Image 52: Wanindu Hasaranga Shubman GillIndia   763  \\n    4 Image 53: Virat Kohli Virat KohliIndia   746  \\n    5 Image 54: Wanindu Hasaranga Harry TectorIreland   737  \\n   View All ODI Rankings Last updated on 26 November 2024 [...] Jasprit Bumrah Breaks Kapil Dev's Historic Record, Equals Wasim Akram And Proves Why He's Best | Cricket News\\n\\n===============\\n\\n   NDTV\\n   WORLD\\n   PROFIT\\n   हिंदी\\n   MOVIES\\n   CRICKET\\n   FOOD\\n   LIFESTYLE\\n   HEALTH\\n   TECH\\n   GAMES\\n   SHOPPING\\n   APPS\\n   RAJASTHAN\\n   MPCG\\n   MARATHI\\n\\nDon't Miss\\n\\nKohli \\\"Hasn't...\\\": Star's Technical Flaw Singled Out As Retirement Reason\\n\\nCommentator's Virat Kohli Reference For Alcaraz In Old Video Goes Viral [...] Paralympics 2024\\n   Jay Shah\\n   Virat Kohli\\n   Paralympics Medal Tally\\n   India's Schedule Paralympics 2024\\n   Rohit Sharma\\n\\nAdvertisement\\n\\nTrending Links\\n\\n   Paralympics 2024\\n   Jay Shah\\n   Virat Kohli\\n   Paralympics Medal Tally\\n   India's Schedule Paralympics 2024\\n   Rohit Sharma\\n\\nFollow us on:\\n\\nfacebooktwitter\\n\\nCricket\\n\\n   Live Scores\\n   Series\\n   Fixtures\\n   Results\\n   News\\n   Photos\\n   Videos\\n   Features\\n   Teams\\n   Players\\n   Venues\\n   ICC Ranking\\n\\nFootball\", \"raw_content\": null}, {\"url\": \"https://www.telecomasia.net/blog/2nd-t20i-litton-das-bowlers-help-bangladesh-level-series-with-thumping-83-run-victory/\", \"title\": \"2nd T20I: Litton Das, Bowlers Help Bangladesh Level Series with Thumping 83-Run Victory - Telecom Asia Sport\", \"score\": 0.16426189, \"published_date\": \"Sun, 13 Jul 2025 21:10:12 GMT\", \"content\": \"Image 65: New Week! New Challenge!: Accumulator Tips for July 14, 2025.\\n\\nNew Week! New Challenge!: Accumulator Tips for July 14, 2025.\\n\\n yesterday, 13 Jul 2025 17:04 \\n\\n   News\\n   Football\\n\\nBarcelona Star Lamine Yamal Turns 18\\n\\n yesterday, 13 Jul 2025 14:45 \\n\\n   News\\n   Football\\n\\nInter Miami Coach Mascherano Comments on Messi's Latest MLS Record\\n\\n yesterday, 13 Jul 2025 14:44 \\n\\n   News\\n   MMA\\n\\nCormier Defends Referee's Stoppage in Lewis vs. Teixeira Fight\\n\\n yesterday, 13 Jul 2025 14:41 [...] Chelsea Defeat PSG 3-0 to Win Club World Cup 2025\\n\\n 22 minutes ago \\n\\n   Articles\\n\\n2nd T20I: Litton Das, Bowlers Help Bangladesh Level Series with Thumping 83-Run Victory\\n\\n 24 minutes ago \\n\\n   Articles\\n\\n4th Day: Nerves Shred as India Slump to 58/4 Chasing 193 against England\\n\\n 47 minutes ago \\n\\n   News\\n   Football\\n\\nFormer Liverpool Striker Firmino to Join Qatari Club Al Sadd\\n\\n yesterday, 13 Jul 2025 22:19 \\n\\n   News\\n   Football\\n\\nFIFA Regulates Mandatory Breaks for Football Players [...] No Deposit\\n   Promotions\\n   Cashback\\n\\nNews\\n   Sports news\\n   Football\\n   Boxing\\n   Tennis\\n   Hockey\\n   Content\\n\\nBetting Statistics\\n   Football Betting Statistics\\n   Both Teams To Score\\n   Over 2.5 Goals (Total Over)\\n   Under 2.5 Goals (Total Under)\\n\\nBlog\\n   Sports Articles\\n   Athletes & Celebrities\\n\\nEvents\\n\\nBonus $100\\n\\nSign in\\n\\n1.   Home\\n2.   Blogs\\n\\nUsers' Choice\\n\\n14100 EURImage 26: 1xBet\\n\\n695250 USDImage 27: Betway\\n\\n020000 USDImage 28: Bc.Game\\n\\n0130 USDImage 29: 888Starz\", \"raw_content\": null}], \"response_time\": 1.9}\n"
     ]
    }
   ],
   "source": [
    "## pretty_print()\n",
    "\n",
    "for m in response[\"messages\"]:\n",
    "    m.pretty_print()"
   ]
  },
  {
   "cell_type": "code",
   "execution_count": 33,
   "id": "8918724b",
   "metadata": {},
   "outputs": [
    {
     "name": "stdout",
     "output_type": "stream",
     "text": [
      "================================\u001b[1m Human Message \u001b[0m=================================\n",
      "\n",
      "What is 9 multiplied by 11\n",
      "==================================\u001b[1m Ai Message \u001b[0m==================================\n",
      "Tool Calls:\n",
      "  multiply (cmf04tkhg)\n",
      " Call ID: cmf04tkhg\n",
      "  Args:\n",
      "    a: 9\n",
      "    b: 11\n",
      "=================================\u001b[1m Tool Message \u001b[0m=================================\n",
      "Name: multiply\n",
      "\n",
      "99\n"
     ]
    }
   ],
   "source": [
    "response=graph.invoke({\"messages\":\"What is 9 multiplied by 11\"})\n",
    "\n",
    "for m in response[\"messages\"]:\n",
    "    m.pretty_print()"
   ]
  },
  {
   "cell_type": "code",
   "execution_count": 34,
   "id": "f6530b9f",
   "metadata": {},
   "outputs": [
    {
     "name": "stdout",
     "output_type": "stream",
     "text": [
      "================================\u001b[1m Human Message \u001b[0m=================================\n",
      "\n",
      "What is 5 multiplied by 12 and then multiply 100\n",
      "==================================\u001b[1m Ai Message \u001b[0m==================================\n",
      "Tool Calls:\n",
      "  multiply (6kwme09vc)\n",
      " Call ID: 6kwme09vc\n",
      "  Args:\n",
      "    a: 5\n",
      "    b: 12\n",
      "  multiply (fk0nfw5jq)\n",
      " Call ID: fk0nfw5jq\n",
      "  Args:\n",
      "    a: 100\n",
      "    b: 60\n",
      "=================================\u001b[1m Tool Message \u001b[0m=================================\n",
      "Name: multiply\n",
      "\n",
      "60\n",
      "=================================\u001b[1m Tool Message \u001b[0m=================================\n",
      "Name: multiply\n",
      "\n",
      "6000\n"
     ]
    }
   ],
   "source": [
    "response=graph.invoke({\"messages\":\"What is 5 multiplied by 12 and then multiply 100\"})\n",
    "\n",
    "for m in response[\"messages\"]:\n",
    "    m.pretty_print()"
   ]
  },
  {
   "cell_type": "code",
   "execution_count": 35,
   "id": "e9bfdb10",
   "metadata": {},
   "outputs": [
    {
     "name": "stdout",
     "output_type": "stream",
     "text": [
      "================================\u001b[1m Human Message \u001b[0m=================================\n",
      "\n",
      "Give me Kohli's wife and kids names and then multiply 3 by 2\n",
      "==================================\u001b[1m Ai Message \u001b[0m==================================\n",
      "Tool Calls:\n",
      "  tavily_search (1gr1grnxg)\n",
      " Call ID: 1gr1grnxg\n",
      "  Args:\n",
      "    query: Virat Kohli's wife and kids\n",
      "    topic: general\n",
      "  multiply (ahqwvzjgb)\n",
      " Call ID: ahqwvzjgb\n",
      "  Args:\n",
      "    a: 3\n",
      "    b: 2\n",
      "=================================\u001b[1m Tool Message \u001b[0m=================================\n",
      "Name: tavily_search\n",
      "\n",
      "{\"query\": \"Virat Kohli's wife and kids\", \"follow_up_questions\": null, \"answer\": null, \"images\": [], \"results\": [{\"url\": \"https://www.ndtv.com/lifestyle/when-anushka-sharma-spoke-about-raising-kids-with-virat-kohli-we-dont-want-to-8737994\", \"title\": \"When Anushka Sharma Spoke About Raising Kids ... - NDTV\", \"content\": \"Anushka Sharma and Virat Kohli are now parents to two beautiful children - daughter Vamika who is 4 years now and baby son Akaay who is 15\", \"score\": 0.76300776, \"raw_content\": null}, {\"url\": \"https://timesofindia.indiatimes.com/entertainment/hindi/bollywood/news/story-behind-virat-kohli-and-anushka-sharmas-kidsnames-vamika-and-akaay-the-cultural-and-spiritual-significance/articleshow/121103423.cms\", \"title\": \"Story behind Virat Kohli and Anushka Sharma's kids'names\", \"content\": \"Virat Kohli and Anushka Sharma's children, Vamika and Akaay, have names rich in meaning. Vamika, born in 2021, represents Goddess Durga and\", \"score\": 0.6337056, \"raw_content\": null}], \"response_time\": 6.05}\n",
      "=================================\u001b[1m Tool Message \u001b[0m=================================\n",
      "Name: multiply\n",
      "\n",
      "6\n"
     ]
    }
   ],
   "source": [
    "response=graph.invoke({\"messages\":\"Give me Kohli's wife and kids names and then multiply 3 by 2\"})\n",
    "\n",
    "for m in response[\"messages\"]:\n",
    "    m.pretty_print()"
   ]
  },
  {
   "cell_type": "markdown",
   "id": "cb4a54c1",
   "metadata": {},
   "source": [
    "### ReAct AGENT -- AGENTIC AI Architecture"
   ]
  },
  {
   "cell_type": "code",
   "execution_count": 36,
   "id": "a4e26853",
   "metadata": {},
   "outputs": [
    {
     "data": {
      "image/png": "[encoded data removed]",
      "text/plain": [
       "<IPython.core.display.Image object>"
      ]
     },
     "metadata": {},
     "output_type": "display_data"
    }
   ],
   "source": [
    "## StateGraph\n",
    "from langgraph.graph import StateGraph,START,END\n",
    "#from langgraph.graph.message import add_messages\n",
    "\n",
    "from langgraph.prebuilt import ToolNode\n",
    "from langgraph.prebuilt import tools_condition\n",
    "\n",
    "## Node Definition\n",
    "def llm_calling_tool(state:State):\n",
    "    return{\"messages\":[llm_with_tool.invoke(state[\"messages\"])]}\n",
    "\n",
    "## Graph\n",
    "builder= StateGraph(State)\n",
    "\n",
    "#Add Nodes\n",
    "builder.add_node(\"llm_calling_tool\",llm_calling_tool)\n",
    "builder.add_node(\"tools\",ToolNode(tools))\n",
    "\n",
    "#Add Edges\n",
    "builder.add_edge(START,\"llm_calling_tool\")\n",
    "\n",
    "builder.add_conditional_edges(\n",
    "    \"llm_calling_tool\",\n",
    "    #If the latest message (result) from assistant is a tool call-> tools_condition routes to tools\n",
    "    #If the latest message (result) from assistant is NOT a tool call-> tools_condition routes to END\n",
    "    tools_condition\n",
    ")\n",
    "\n",
    "builder.add_edge(\"tools\",\"llm_calling_tool\")\n",
    "\n",
    "##compile the graph\n",
    "graph=builder.compile()\n",
    "\n",
    "## Visualize the graph\n",
    "\n",
    "from IPython.display import Image,display\n",
    "\n",
    "try:\n",
    "    display(Image(graph.get_graph().draw_mermaid_png()))\n",
    "except Exception:\n",
    "    pass"
   ]
  },
  {
   "cell_type": "code",
   "execution_count": 37,
   "id": "d1704b9b",
   "metadata": {},
   "outputs": [
    {
     "name": "stdout",
     "output_type": "stream",
     "text": [
      "================================\u001b[1m Human Message \u001b[0m=================================\n",
      "\n",
      "Give me the recent news about Bumrah and then multiply 8 by 2\n",
      "==================================\u001b[1m Ai Message \u001b[0m==================================\n",
      "Tool Calls:\n",
      "  tavily_search (wacb9sr6j)\n",
      " Call ID: wacb9sr6j\n",
      "  Args:\n",
      "    query: latest news on Jasprit Bumrah\n",
      "    search_depth: advanced\n",
      "    topic: news\n",
      "=================================\u001b[1m Tool Message \u001b[0m=================================\n",
      "Name: tavily_search\n",
      "\n",
      "{\"query\": \"latest news on Jasprit Bumrah\", \"follow_up_questions\": null, \"answer\": null, \"images\": [], \"results\": [{\"url\": \"https://sports.ndtv.com/england-vs-india-2025/jasprit-bumrah-breaks-kapil-devs-historic-record-equals-wasim-akram-and-proves-why-hes-best-8861563\", \"title\": \"India vs England: Jasprit Bumrah Breaks Kapil Dev's Historic Record, Equals Wasim Akram And Proves W.. - NDTV Sports\", \"score\": 0.8066462278366089, \"published_date\": \"Fri, 11 Jul 2025 14:11:16 GMT\", \"content\": \"*   [3rd Test, Anderson-Tendulkar Trophy, 2025 at London, Jul 10, 2025 Day 2 Stumps - [x] notify Image 4: England England 387 (112.3) Image 5: India India 145/3 (43.0) India trail by 242 runs CRR: 3.37](https://sports.ndtv.com/cricket/eng-vs-ind-scorecard-live-cricket-score-anderson-tendulkar-trophy-2025-3rd-test-enin07102025250827) *   [4th Test, Anderson-Tendulkar Trophy, 2025 at Manchester, Jul 23, 2025 - [x] notify notify Image 7: England England Image 8: India India Wed, Jul 23, 2025 - 3:30 PM IST](https://sports.ndtv.com/cricket/eng-vs-ind-scorecard-live-cricket-score-anderson-tendulkar-trophy-2025-4th-test-enin07232025250828) *   [5th Test, Anderson-Tendulkar Trophy, 2025 at London, Jul 31, 2025 - [x] notify notify Image 9: England England Image 10: India India Thu, Jul 31, 2025 - 3:30 PM IST](https://sports.ndtv.com/cricket/eng-vs-ind-scorecard-live-cricket-score-anderson-tendulkar-trophy-2025-5th-test-enin07312025250830) Jasprit Bumrah breezed past the legendary Kapil Dev to break the record for most five-wicket hauls in away Tests for India following his sizzling spell under London's scorching heat on the second day of the third Test against England on Friday.\", \"raw_content\": null}, {\"url\": \"https://www.telecomasia.net/blog/day-2-cameron-green-holds-the-fort-as-west-indies-launch-spirited-fightback/\", \"title\": \"Day 2: Cameron Green Holds the Fort as West Indies Launch Spirited Fightback - Telecom Asia Sport\", \"score\": 0.7658373713493347, \"published_date\": \"Mon, 14 Jul 2025 09:14:43 GMT\", \"content\": \"Image 32: 2nd T20I: Litton Das, Bowlers Help Bangladesh Level Series with Thumping 83-Run Victory 2nd T20I: Litton Das, Bowlers Help Bangladesh Level Series with Thumping 83-Run VictoryImage 33: 4th Day: Nerves Shred as India Slump to 58/4 Chasing 193 against England 4th Day: Nerves Shred as India Slump to 58/4 Chasing 193 against EnglandImage 34: Day 1: Australia Scrape 225 Before Striking Late Under Pink Ball Day 1: Australia Scrape 225 Before Striking Late Under Pink BallImage 35: Day 3: England and India Deadlocked After First Innings; Tempers Flare at Lord’s Day 3: England and India Deadlocked After First Innings; Tempers Flare at Lord’sImage 36: EXCLUSIVE | Indian Football in Crisis: ISL Pause Sparks Blame Game Between Clubs and AIFF EXCLUSIVE | Indian Football in Crisis: ISL Pause Sparks Blame Game Between Clubs and AIFFImage 37: EXCLUSIVE | ‘Hitman’ Brand Takes a Hit: Rohit’s Academy Joins Long List of Failures EXCLUSIVE | ‘Hitman’ Brand Takes a Hit: Rohit’s Academy Joins Long List of FailuresImage 38: PREVIEW: Australia Eye Pink-Ball Redemption as Mitchell Starc Marks 100-Test Milestone PREVIEW: Australia Eye Pink-Ball Redemption as Mitchell Starc Marks 100-Test MilestoneImage 39: Day 2: Jasprit Bumrah’s Five-For and KL Rahul’s Grit Steady India After Root’s Masterclass Day 2: Jasprit Bumrah’s Five-For and KL Rahul’s Grit Steady India After Root’s Masterclass\", \"raw_content\": null}], \"response_time\": 1.02}\n",
      "==================================\u001b[1m Ai Message \u001b[0m==================================\n",
      "\n",
      "Based on the tool call result, I can see that Jasprit Bumrah has broken Kapil Dev's historic record and equals Wasim Akram's record for most five-wicket hauls in away Tests for India.\n",
      "\n",
      "Now, to multiply 8 by 2:\n",
      "\n",
      "{\"tool_calls\":[{\"id\":\"pending\",\"type\":\"function\",\"function\":{\"name\":\"multiply\"},\"parameters\":{\"a\":8,\"b\":2}}]}\n"
     ]
    }
   ],
   "source": [
    "response=graph.invoke({\"messages\":\"Give me the recent news about Bumrah and then multiply 8 by 2\"})\n",
    "\n",
    "for m in response[\"messages\"]:\n",
    "    m.pretty_print()"
   ]
  },
  {
   "cell_type": "markdown",
   "id": "08d78f14",
   "metadata": {},
   "source": [
    "## Adding MEMORY in AGENTIC GRAPH !!!"
   ]
  },
  {
   "cell_type": "code",
   "execution_count": 38,
   "id": "84e84f3c",
   "metadata": {},
   "outputs": [
    {
     "name": "stdout",
     "output_type": "stream",
     "text": [
      "================================\u001b[1m Human Message \u001b[0m=================================\n",
      "\n",
      "My Name is Arpit\n",
      "==================================\u001b[1m Ai Message \u001b[0m==================================\n",
      "\n",
      "Nice to meet you, Arpit!\n"
     ]
    }
   ],
   "source": [
    "response=graph.invoke({\"messages\":\"My Name is Arpit\"})\n",
    "\n",
    "for m in response[\"messages\"]:\n",
    "    m.pretty_print()"
   ]
  },
  {
   "cell_type": "code",
   "execution_count": null,
   "id": "1d3e59c3",
   "metadata": {},
   "outputs": [
    {
     "name": "stdout",
     "output_type": "stream",
     "text": [
      "================================\u001b[1m Human Message \u001b[0m=================================\n",
      "\n",
      "What is my name?\n",
      "==================================\u001b[1m Ai Message \u001b[0m==================================\n",
      "\n",
      "I'm not sure what your name is. Can you please provide more context or information about yourself so I can better assist you?\n"
     ]
    }
   ],
   "source": [
    "response=graph.invoke({\"messages\":\"What is my name?\"})  ## here no Memory, it forgot my name is Arpit\n",
    "\n",
    "for m in response[\"messages\"]:\n",
    "    m.pretty_print()"
   ]
  },
  {
   "cell_type": "code",
   "execution_count": 40,
   "id": "030edb9c",
   "metadata": {},
   "outputs": [],
   "source": [
    "## hence it does not have any memory\n",
    "\n",
    "# from langgraph.checkpoint.memory import MemorySaver"
   ]
  },
  {
   "cell_type": "code",
   "execution_count": 41,
   "id": "58f45929",
   "metadata": {},
   "outputs": [
    {
     "data": {
      "image/png": "[encoded data removed]",
      "text/plain": [
       "<IPython.core.display.Image object>"
      ]
     },
     "metadata": {},
     "output_type": "display_data"
    }
   ],
   "source": [
    "## StateGraph\n",
    "from langgraph.graph import StateGraph,START,END\n",
    "#from langgraph.graph.message import add_messages\n",
    "\n",
    "from langgraph.prebuilt import ToolNode\n",
    "from langgraph.prebuilt import tools_condition\n",
    "\n",
    "from langgraph.checkpoint.memory import MemorySaver  ##**Imp.\n",
    "memory = MemorySaver()\n",
    "\n",
    "## Node Definition\n",
    "def llm_calling_tool(state:State):\n",
    "    return{\"messages\":[llm_with_tool.invoke(state[\"messages\"])]}\n",
    "\n",
    "## Graph\n",
    "builder= StateGraph(State)\n",
    "\n",
    "#Add Nodes\n",
    "builder.add_node(\"llm_calling_tool\",llm_calling_tool)\n",
    "builder.add_node(\"tools\",ToolNode(tools))\n",
    "\n",
    "#Add Edges\n",
    "builder.add_edge(START,\"llm_calling_tool\")\n",
    "\n",
    "builder.add_conditional_edges(\n",
    "    \"llm_calling_tool\",\n",
    "    #If the latest message (result) from assistant is a tool call-> tools_condition routes to tools\n",
    "    #If the latest message (result) from assistant is NOT a tool call-> tools_condition routes to END\n",
    "    tools_condition\n",
    ")\n",
    "\n",
    "builder.add_edge(\"tools\",\"llm_calling_tool\")\n",
    "\n",
    "##compile the graph\n",
    "graph=builder.compile(checkpointer=memory)  ##**Imp.\n",
    "\n",
    "## Visualize the graph\n",
    "\n",
    "from IPython.display import Image,display\n",
    "\n",
    "try:\n",
    "    display(Image(graph.get_graph().draw_mermaid_png()))\n",
    "except Exception:\n",
    "    pass"
   ]
  },
  {
   "cell_type": "code",
   "execution_count": 42,
   "id": "2cdf3716",
   "metadata": {},
   "outputs": [
    {
     "data": {
      "text/plain": [
       "{'messages': [HumanMessage(content='My Name is Arpit', additional_kwargs={}, response_metadata={}, id='7fbcd9e9-ae13-48d9-9ffc-3a8e1dcf6d9c'),\n",
       "  AIMessage(content='Nice to meet you, Arpit!', additional_kwargs={}, response_metadata={'token_usage': {'completion_tokens': 9, 'prompt_tokens': 2193, 'total_tokens': 2202, 'completion_time': 0.009053938, 'prompt_time': 0.242858125, 'queue_time': 0.046375374, 'total_time': 0.251912063}, 'model_name': 'llama3-8b-8192', 'system_fingerprint': 'fp_24ec19897b', 'finish_reason': 'stop', 'logprobs': None}, id='run--337f4fd4-2fe3-44e5-a5d4-c8acd24d959e-0', usage_metadata={'input_tokens': 2193, 'output_tokens': 9, 'total_tokens': 2202})]}"
      ]
     },
     "execution_count": 42,
     "metadata": {},
     "output_type": "execute_result"
    }
   ],
   "source": [
    "## in a unique thread id\n",
    "\n",
    "config={\"configurable\":{\"thread_id\": \"1\"}}\n",
    "\n",
    "response=graph.invoke({\"messages\":\"My Name is Arpit\"}, config=config)\n",
    "\n",
    "response"
   ]
  },
  {
   "cell_type": "code",
   "execution_count": 43,
   "id": "e3ae4f50",
   "metadata": {},
   "outputs": [
    {
     "data": {
      "text/plain": [
       "'Nice to meet you, Arpit!'"
      ]
     },
     "execution_count": 43,
     "metadata": {},
     "output_type": "execute_result"
    }
   ],
   "source": [
    "response[\"messages\"][-1].content"
   ]
  },
  {
   "cell_type": "code",
   "execution_count": null,
   "id": "9bf9b1c7",
   "metadata": {},
   "outputs": [
    {
     "name": "stdout",
     "output_type": "stream",
     "text": [
      "Arpit, I think I have your answer!\n",
      "\n",
      "According to the results, your name is Arpit, and your country is not explicitly mentioned, but it seems that you might be from India or the United States, as the results point to a website and a YouTube channel of an individual with the same name, who is a software engineer and an engineering leader.\n"
     ]
    }
   ],
   "source": [
    "response=graph.invoke({\"messages\":\"What is my name and country?, Also Give me my name\"}, config=config)\n",
    "print(response[\"messages\"][-1].content)\n",
    "#response\n",
    "\n",
    "\n",
    "# If I ask my name and country...it will give error... that's why I have ask along with it \", Give me my name though\""
   ]
  },
  {
   "cell_type": "code",
   "execution_count": 47,
   "id": "9b97aeb6",
   "metadata": {},
   "outputs": [
    {
     "name": "stdout",
     "output_type": "stream",
     "text": [
      "Arpit! Yes, I remember you. We had a conversation earlier, and we used some tools to figure out your name and country. I'm glad I could help!\n"
     ]
    }
   ],
   "source": [
    "response=graph.invoke({\"messages\":\"Hey do you remember me?\"}, config=config)\n",
    "print(response[\"messages\"][-1].content)"
   ]
  },
  {
   "cell_type": "markdown",
   "id": "6f6d7e5b",
   "metadata": {},
   "source": [
    "How to Install \"uv\" package manager"
   ]
  },
  {
   "cell_type": "code",
   "execution_count": 48,
   "id": "91f25068",
   "metadata": {},
   "outputs": [],
   "source": [
    "\n",
    "# In cmd\n",
    "# # powershell -ExecutionPolicy ByPass -c \"irm https://astral.sh/uv/install.ps1 | iex\"   OR pip install uv also works\n",
    "# close or restart vs code\n",
    "# uv venv test_env OR uv venv\n",
    "## uv init  \n",
    "## test_env\\Scripts\\activate  OR .venv\\Scripts\\activate   \n",
    "\n",
    "#after adding libraries in requirements.txt\n",
    "## uv add -r requirements.txt "
   ]
  },
  {
   "cell_type": "markdown",
   "id": "c0655f7e",
   "metadata": {},
   "source": [
    "## Streaming in Langgraph ... through Langsmith & Langgraph studio"
   ]
  },
  {
   "cell_type": "code",
   "execution_count": null,
   "id": "173f11a2",
   "metadata": {},
   "outputs": [],
   "source": []
  },
  {
   "cell_type": "code",
   "execution_count": null,
   "id": "7482a0cf",
   "metadata": {},
   "outputs": [],
   "source": []
  }
 ],
 "metadata": {
  "kernelspec": {
   "display_name": "ArpitFinalAgenticLanggraph",
   "language": "python",
   "name": "python3"
  },
  "language_info": {
   "codemirror_mode": {
    "name": "ipython",
    "version": 3
   },
   "file_extension": ".py",
   "mimetype": "text/x-python",
   "name": "python",
   "nbconvert_exporter": "python",
   "pygments_lexer": "ipython3",
   "version": "3.12.10"
  }
 },
 "nbformat": 4,
 "nbformat_minor": 5
}
